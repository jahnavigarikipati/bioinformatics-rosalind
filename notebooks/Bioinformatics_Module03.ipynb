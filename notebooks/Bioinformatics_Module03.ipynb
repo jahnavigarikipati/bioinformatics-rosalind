{
  "cells": [
    {
      "cell_type": "markdown",
      "metadata": {
        "id": "view-in-github",
        "colab_type": "text"
      },
      "source": [
        "<a href=\"https://colab.research.google.com/github/jahnavigarikipati/bioinformatics-rosalind/blob/main/notebooks/Bioinformatics_Module03.ipynb\" target=\"_parent\"><img src=\"https://colab.research.google.com/assets/colab-badge.svg\" alt=\"Open In Colab\"/></a>"
      ]
    },
    {
      "cell_type": "markdown",
      "id": "c275cb36",
      "metadata": {
        "id": "c275cb36"
      },
      "source": [
        "# Bioinformatics — Module 03"
      ]
    },
    {
      "cell_type": "code",
      "execution_count": 1,
      "id": "b9b1d8a6",
      "metadata": {
        "colab": {
          "base_uri": "https://localhost:8080/"
        },
        "id": "b9b1d8a6",
        "outputId": "ac2c7eb5-ab6c-4b82-840c-73b87f50b339"
      },
      "outputs": [
        {
          "output_type": "stream",
          "name": "stdout",
          "text": [
            "\u001b[2K   \u001b[90m━━━━━━━━━━━━━━━━━━━━━━━━━━━━━━━━━━━━━━━━\u001b[0m \u001b[32m3.3/3.3 MB\u001b[0m \u001b[31m15.9 MB/s\u001b[0m eta \u001b[36m0:00:00\u001b[0m\n",
            "\u001b[?25hready\n"
          ]
        }
      ],
      "source": [
        "\n",
        "# setup: install + imports\n",
        "!pip -q install biopython\n",
        "from Bio.Seq import Seq\n",
        "from Bio.SeqIO import parse\n",
        "from Bio.SeqUtils import gc_fraction\n",
        "print(\"ready\")\n"
      ]
    },
    {
      "cell_type": "code",
      "execution_count": 2,
      "id": "dd5eb0df",
      "metadata": {
        "colab": {
          "base_uri": "https://localhost:8080/"
        },
        "id": "dd5eb0df",
        "outputId": "58e73ad0-7218-4996-d378-c94261ad30fd"
      },
      "outputs": [
        {
          "output_type": "stream",
          "name": "stdout",
          "text": [
            "hello world\n"
          ]
        }
      ],
      "source": [
        "\n",
        "# P2: print\n",
        "print(\"hello world\")\n"
      ]
    },
    {
      "cell_type": "code",
      "execution_count": 3,
      "id": "d568cf26",
      "metadata": {
        "colab": {
          "base_uri": "https://localhost:8080/"
        },
        "id": "d568cf26",
        "outputId": "42a68763-9e87-426a-881a-18462fb33e83"
      },
      "outputs": [
        {
          "output_type": "stream",
          "name": "stdout",
          "text": [
            "5 2 bio\n"
          ]
        }
      ],
      "source": [
        "\n",
        "# P3: variables/assignment\n",
        "a = 5; b = 2; s = \"bio\"\n",
        "print(a, b, s)\n"
      ]
    },
    {
      "cell_type": "code",
      "execution_count": 4,
      "id": "4f87d88f",
      "metadata": {
        "colab": {
          "base_uri": "https://localhost:8080/"
        },
        "id": "4f87d88f",
        "outputId": "6f6a4cb5-a595-4d6f-b51b-2871396334a3"
      },
      "outputs": [
        {
          "output_type": "stream",
          "name": "stdout",
          "text": [
            "<class 'str'> <class 'float'> 3.14\n"
          ]
        }
      ],
      "source": [
        "\n",
        "# P4: types/conversion\n",
        "x = \"3.14\"\n",
        "y = float(x)\n",
        "print(type(x), type(y), y)\n"
      ]
    },
    {
      "cell_type": "code",
      "execution_count": 5,
      "id": "0f66fc0a",
      "metadata": {
        "colab": {
          "base_uri": "https://localhost:8080/"
        },
        "id": "0f66fc0a",
        "outputId": "1e4d4514-b350-4cfe-b47e-1d42ee2f0d90"
      },
      "outputs": [
        {
          "output_type": "stream",
          "name": "stdout",
          "text": [
            "16 4 60 1.6666666666666667 1 4 100 False False\n"
          ]
        }
      ],
      "source": [
        "\n",
        "# P5: arithmetic/comparisons\n",
        "m, n = 10, 6\n",
        "print(m+n, m-n, m*n, m/n, m//n, m%n, m**2, m<n, m==n)\n"
      ]
    },
    {
      "cell_type": "code",
      "execution_count": 6,
      "id": "396d9cd3",
      "metadata": {
        "id": "396d9cd3"
      },
      "outputs": [],
      "source": [
        "\n",
        "# P6: input (commented)\n",
        "# name = input(\"name: \")\n",
        "# print(\"hi\", name)\n"
      ]
    },
    {
      "cell_type": "code",
      "execution_count": 7,
      "id": "bf56f2a6",
      "metadata": {
        "colab": {
          "base_uri": "https://localhost:8080/"
        },
        "id": "bf56f2a6",
        "outputId": "7f3fef8d-7aef-459f-94f1-28abf7a0f9dc"
      },
      "outputs": [
        {
          "output_type": "stream",
          "name": "stdout",
          "text": [
            "10 ATGCGTATTA atgcgtatta\n"
          ]
        }
      ],
      "source": [
        "\n",
        "# P7: strings basics\n",
        "dna = \"ATGCGTATTA\"\n",
        "print(len(dna), dna.upper(), dna.lower())\n"
      ]
    },
    {
      "cell_type": "code",
      "execution_count": 8,
      "id": "8a198110",
      "metadata": {
        "colab": {
          "base_uri": "https://localhost:8080/"
        },
        "id": "8a198110",
        "outputId": "688ec2ae-14c5-4b17-bd33-ca5e3713720a"
      },
      "outputs": [
        {
          "output_type": "stream",
          "name": "stdout",
          "text": [
            "ATG CGT TTA ATTATGCGTA\n"
          ]
        }
      ],
      "source": [
        "\n",
        "# P8: slicing\n",
        "print(dna[:3], dna[3:6], dna[-3:], dna[::-1])\n"
      ]
    },
    {
      "cell_type": "code",
      "execution_count": 9,
      "id": "f66a9616",
      "metadata": {
        "colab": {
          "base_uri": "https://localhost:8080/"
        },
        "id": "f66a9616",
        "outputId": "54b339c5-bcdd-4058-e460-d90cb33125bf"
      },
      "outputs": [
        {
          "output_type": "stream",
          "name": "stdout",
          "text": [
            "purine\n"
          ]
        }
      ],
      "source": [
        "\n",
        "# P9: if/elif/else\n",
        "base = \"G\"\n",
        "if base in (\"A\",\"G\"):\n",
        "    kind = \"purine\"\n",
        "elif base in (\"C\",\"T\"):\n",
        "    kind = \"pyrimidine\"\n",
        "else:\n",
        "    kind = \"other\"\n",
        "print(kind)\n"
      ]
    },
    {
      "cell_type": "code",
      "execution_count": 10,
      "id": "c854f97d",
      "metadata": {
        "colab": {
          "base_uri": "https://localhost:8080/"
        },
        "id": "c854f97d",
        "outputId": "4e486f7c-f46e-4c3f-8850-0f0c12b540d7"
      },
      "outputs": [
        {
          "output_type": "stream",
          "name": "stdout",
          "text": [
            "5 5\n"
          ]
        }
      ],
      "source": [
        "\n",
        "# P10: for-loop over dna\n",
        "pur, pyr = 0, 0\n",
        "for b in dna:\n",
        "    if b in \"AG\": pur += 1\n",
        "    elif b in \"CT\": pyr += 1\n",
        "print(pur, pyr)\n"
      ]
    },
    {
      "cell_type": "code",
      "execution_count": 11,
      "id": "7edac6e2",
      "metadata": {
        "colab": {
          "base_uri": "https://localhost:8080/"
        },
        "id": "7edac6e2",
        "outputId": "2b595985-2b33-4ae5-b70e-4b50dc2ec0f4"
      },
      "outputs": [
        {
          "output_type": "stream",
          "name": "stdout",
          "text": [
            "G count: 2\n"
          ]
        }
      ],
      "source": [
        "\n",
        "# P11: while-loop counter\n",
        "i = 0; cnt = 0\n",
        "while i < len(dna):\n",
        "    if dna[i] == \"G\": cnt += 1\n",
        "    i += 1\n",
        "print(\"G count:\", cnt)\n"
      ]
    },
    {
      "cell_type": "code",
      "execution_count": 12,
      "id": "1ef4889d",
      "metadata": {
        "colab": {
          "base_uri": "https://localhost:8080/"
        },
        "id": "1ef4889d",
        "outputId": "7a2c91e2-f4b8-4da2-f342-d5f098029eb5"
      },
      "outputs": [
        {
          "output_type": "stream",
          "name": "stdout",
          "text": [
            "even indices done\n"
          ]
        }
      ],
      "source": [
        "\n",
        "# P12: range\n",
        "for i in range(0, len(dna), 2):\n",
        "    pass\n",
        "print(\"even indices done\")\n"
      ]
    },
    {
      "cell_type": "code",
      "execution_count": 13,
      "id": "100da5de",
      "metadata": {
        "colab": {
          "base_uri": "https://localhost:8080/"
        },
        "id": "100da5de",
        "outputId": "a175ca73-ec1d-4bf1-eb14-000c42163106"
      },
      "outputs": [
        {
          "output_type": "stream",
          "name": "stdout",
          "text": [
            "35\n"
          ]
        }
      ],
      "source": [
        "\n",
        "# P13: open/read file\n",
        "with open(\"dna1.txt\",\"w\") as f: f.write(\"AGCTTTTCATTCTGACT\\nGCAACGGGCAATATGTC\")\n",
        "s = open(\"dna1.txt\").read()\n",
        "print(len(s))\n"
      ]
    },
    {
      "cell_type": "code",
      "execution_count": 14,
      "id": "2fa212b8",
      "metadata": {
        "colab": {
          "base_uri": "https://localhost:8080/"
        },
        "id": "2fa212b8",
        "outputId": "52194e49-c979-4d3f-cc65-4114893665c7"
      },
      "outputs": [
        {
          "output_type": "stream",
          "name": "stdout",
          "text": [
            "['AGCTTTTCATTCTGACT', 'GCAACGGGCAATATGTC']\n"
          ]
        }
      ],
      "source": [
        "\n",
        "# P14: readlines\n",
        "lines = open(\"dna1.txt\").readlines()\n",
        "lines = [ln.strip() for ln in lines]\n",
        "print(lines)\n"
      ]
    },
    {
      "cell_type": "code",
      "execution_count": 15,
      "id": "ba4faabe",
      "metadata": {
        "colab": {
          "base_uri": "https://localhost:8080/"
        },
        "id": "ba4faabe",
        "outputId": "709b2d56-a453-4902-d1f7-ea624ef66406"
      },
      "outputs": [
        {
          "output_type": "stream",
          "name": "stdout",
          "text": [
            "AGCTTTTCATTCTGACTGCA ['A', 'C', 'G', 'T']\n"
          ]
        }
      ],
      "source": [
        "\n",
        "# P15: join/split\n",
        "full = \"\".join(lines)\n",
        "words = \"A C G T\".split()\n",
        "print(full[:20], words)\n"
      ]
    },
    {
      "cell_type": "code",
      "execution_count": 16,
      "id": "31c6c04b",
      "metadata": {
        "colab": {
          "base_uri": "https://localhost:8080/"
        },
        "id": "31c6c04b",
        "outputId": "03900268-732a-4fda-cf02-62230151b9e4"
      },
      "outputs": [
        {
          "output_type": "stream",
          "name": "stdout",
          "text": [
            "wrote out.txt\n"
          ]
        }
      ],
      "source": [
        "\n",
        "# P16: write file\n",
        "with open(\"out.txt\",\"w\") as f: f.write(full[:50])\n",
        "print(\"wrote out.txt\")\n"
      ]
    },
    {
      "cell_type": "code",
      "execution_count": 17,
      "id": "9c89ea0a",
      "metadata": {
        "colab": {
          "base_uri": "https://localhost:8080/"
        },
        "id": "9c89ea0a",
        "outputId": "5202be8d-d979-4a5e-c7b1-66184bed2047"
      },
      "outputs": [
        {
          "output_type": "stream",
          "name": "stdout",
          "text": [
            "{'A': 8, 'C': 8, 'G': 7, 'T': 11}\n"
          ]
        }
      ],
      "source": [
        "\n",
        "# P17: dict basics\n",
        "counts = {\"A\":0,\"C\":0,\"G\":0,\"T\":0}\n",
        "for b in full:\n",
        "    if b in counts: counts[b]+=1\n",
        "print(counts)\n"
      ]
    },
    {
      "cell_type": "code",
      "execution_count": 18,
      "id": "6e72e9cd",
      "metadata": {
        "colab": {
          "base_uri": "https://localhost:8080/"
        },
        "id": "6e72e9cd",
        "outputId": "812e9060-1318-461d-e5aa-adfceff7174b"
      },
      "outputs": [
        {
          "output_type": "stream",
          "name": "stdout",
          "text": [
            "A 8\n",
            "C 8\n",
            "G 7\n",
            "T 11\n"
          ]
        }
      ],
      "source": [
        "\n",
        "# P18: dict loop\n",
        "for k,v in counts.items():\n",
        "    print(k, v)\n"
      ]
    },
    {
      "cell_type": "code",
      "execution_count": 19,
      "id": "2dba96d5",
      "metadata": {
        "colab": {
          "base_uri": "https://localhost:8080/"
        },
        "id": "2dba96d5",
        "outputId": "4bbfb635-630f-4679-8fa5-83d68338a1db"
      },
      "outputs": [
        {
          "output_type": "stream",
          "name": "stdout",
          "text": [
            "8 8 7 11\n"
          ]
        }
      ],
      "source": [
        "\n",
        "# P19: str.count vs dict\n",
        "print(full.count(\"A\"), full.count(\"C\"), full.count(\"G\"), full.count(\"T\"))\n"
      ]
    },
    {
      "cell_type": "code",
      "execution_count": 20,
      "id": "b45028c3",
      "metadata": {
        "colab": {
          "base_uri": "https://localhost:8080/"
        },
        "id": "b45028c3",
        "outputId": "7ea84f44-2f61-43c9-88c1-aaeebb28b72c"
      },
      "outputs": [
        {
          "output_type": "stream",
          "name": "stdout",
          "text": [
            "TCGAAAAGTAAGACTGACGTTGCCCGTTATACAG\n",
            "GACATATTGCCCGTTGCAGTCAGAATGAAAAGCT\n"
          ]
        }
      ],
      "source": [
        "\n",
        "# P20: Seq complement\n",
        "seq = Seq(full)\n",
        "print(str(seq.complement())[:40])\n",
        "print(str(seq.reverse_complement())[:40])\n"
      ]
    },
    {
      "cell_type": "code",
      "execution_count": 21,
      "id": "d0e2ff7a",
      "metadata": {
        "colab": {
          "base_uri": "https://localhost:8080/"
        },
        "id": "d0e2ff7a",
        "outputId": "e1fd9441-0aba-42a8-a3a2-f8945f66edf2"
      },
      "outputs": [
        {
          "output_type": "stream",
          "name": "stdout",
          "text": [
            "AGCUUUUCAUUCUGACUGCAACGGGCAAUAUGUC\n",
            "SFSF*LQRAIC\n"
          ]
        },
        {
          "output_type": "stream",
          "name": "stderr",
          "text": [
            "/usr/local/lib/python3.12/dist-packages/Bio/Seq.py:2879: BiopythonWarning: Partial codon, len(sequence) not a multiple of three. Explicitly trim the sequence or add trailing N before translation. This may become an error in future.\n",
            "  warnings.warn(\n"
          ]
        }
      ],
      "source": [
        "\n",
        "# P21: transcribe + translate\n",
        "rna = seq.transcribe()\n",
        "prot = rna.translate()\n",
        "print(str(rna)[:40])\n",
        "print(str(prot)[:40])\n"
      ]
    },
    {
      "cell_type": "code",
      "execution_count": 22,
      "id": "f414edf0",
      "metadata": {
        "colab": {
          "base_uri": "https://localhost:8080/"
        },
        "id": "f414edf0",
        "outputId": "85968a48-5a0b-4418-e5f4-4d6ccf3b909d"
      },
      "outputs": [
        {
          "output_type": "stream",
          "name": "stdout",
          "text": [
            "id1 8\n",
            "id2 12\n",
            "id3 11\n"
          ]
        }
      ],
      "source": [
        "\n",
        "# P22: FASTA parse\n",
        "with open(\"tiny_gc.fasta\",\"w\") as f:\n",
        "    f.write(\">id1\\nAGCTATAG\\n>id2\\nCGCTATAGCGCG\\n>id3\\nCCCCCCTTTTT\\n\")\n",
        "for rec in parse(\"tiny_gc.fasta\",\"fasta\"):\n",
        "    print(rec.id, len(rec.seq))\n"
      ]
    },
    {
      "cell_type": "code",
      "execution_count": 23,
      "id": "1c3aa7c6",
      "metadata": {
        "colab": {
          "base_uri": "https://localhost:8080/"
        },
        "id": "1c3aa7c6",
        "outputId": "1b155af4-e2d7-42c3-addc-f7f71b28fe4d"
      },
      "outputs": [
        {
          "output_type": "stream",
          "name": "stdout",
          "text": [
            "id2 66.666667\n"
          ]
        }
      ],
      "source": [
        "\n",
        "# P23: GC fraction + max\n",
        "best_id, best_gc = None, -1.0\n",
        "for rec in parse(\"tiny_gc.fasta\",\"fasta\"):\n",
        "    gc = gc_fraction(str(rec.seq))\n",
        "    if gc > best_gc:\n",
        "        best_id, best_gc = rec.id, gc\n",
        "print(best_id, round(best_gc*100, 6))\n"
      ]
    },
    {
      "cell_type": "code",
      "execution_count": 24,
      "id": "bb0cc97b",
      "metadata": {
        "colab": {
          "base_uri": "https://localhost:8080/"
        },
        "id": "bb0cc97b",
        "outputId": "b42998c3-b286-41dd-e31a-d743ce7db82a"
      },
      "outputs": [
        {
          "output_type": "stream",
          "name": "stdout",
          "text": [
            "8 8 7 11\n"
          ]
        }
      ],
      "source": [
        "\n",
        "# Rosalind-style: count bases from file\n",
        "dna_in = full\n",
        "print(dna_in.count(\"A\"), dna_in.count(\"C\"), dna_in.count(\"G\"), dna_in.count(\"T\"))\n"
      ]
    }
  ],
  "metadata": {
    "colab": {
      "provenance": [],
      "include_colab_link": true
    },
    "language_info": {
      "name": "python"
    },
    "kernelspec": {
      "name": "python3",
      "display_name": "Python 3"
    }
  },
  "nbformat": 4,
  "nbformat_minor": 5
}